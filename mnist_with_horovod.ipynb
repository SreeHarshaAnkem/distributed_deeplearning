{
 "cells": [
  {
   "cell_type": "code",
   "execution_count": null,
   "metadata": {
    "ExecuteTime": {
     "end_time": "2021-10-25T18:27:36.399058Z",
     "start_time": "2021-10-25T18:27:36.353584Z"
    }
   },
   "outputs": [],
   "source": [
    "def get_dataset(num_classes, rank=0, size=1):\n",
    "  from tensorflow import keras\n",
    "  \n",
    "  (x_train, y_train), (x_test, y_test) = keras.datasets.mnist.load_data('MNIST-data-%d' % rank)\n",
    "  x_train = x_train[rank::size]\n",
    "  y_train = y_train[rank::size]\n",
    "  x_test = x_test[rank::size]\n",
    "  y_test = y_test[rank::size]\n",
    "  x_train = x_train.reshape(x_train.shape[0], 28, 28, 1)\n",
    "  x_test = x_test.reshape(x_test.shape[0], 28, 28, 1)\n",
    "  x_train = x_train.astype('float32')\n",
    "  x_test = x_test.astype('float32')\n",
    "  x_train /= 255\n",
    "  x_test /= 255\n",
    "\n",
    "  y_train = keras.utils.to_categorical(y_train, num_classes)\n",
    "  y_test = keras.utils.to_categorical(y_test, num_classes)\n",
    "  return (x_train, y_train), (x_test, y_test)"
   ]
  },
  {
   "cell_type": "code",
   "execution_count": null,
   "metadata": {
    "ExecuteTime": {
     "end_time": "2021-10-25T18:08:15.061406Z",
     "start_time": "2021-10-25T18:08:15.049645Z"
    }
   },
   "outputs": [],
   "source": [
    "def get_model(num_classes):\n",
    "  from tensorflow.keras import models\n",
    "  from tensorflow.keras import layers\n",
    "  \n",
    "  model = models.Sequential()\n",
    "  model.add(layers.Conv2D(32, kernel_size=(3, 3),\n",
    "                   activation='relu',\n",
    "                   input_shape=(28, 28, 1)))\n",
    "  model.add(layers.MaxPooling2D(pool_size=(2, 2)))\n",
    "  model.add(layers.Dropout(0.25))\n",
    "  model.add(layers.Flatten())\n",
    "  model.add(layers.Dense(128, activation='relu'))\n",
    "  model.add(layers.Dropout(0.5))\n",
    "  model.add(layers.Dense(num_classes, activation='softmax'))\n",
    "  return model"
   ]
  },
  {
   "cell_type": "code",
   "execution_count": null,
   "metadata": {
    "ExecuteTime": {
     "end_time": "2021-10-25T18:08:16.093343Z",
     "start_time": "2021-10-25T18:08:16.081702Z"
    }
   },
   "outputs": [],
   "source": [
    "# Specify training parameters\n",
    "batch_size = 128\n",
    "epochs = 2\n",
    "num_classes = 10\n",
    " \n",
    "def train(learning_rate=1.0):\n",
    "  from tensorflow import keras\n",
    "  \n",
    "  (x_train, y_train), (x_test, y_test) = get_dataset(num_classes)\n",
    "  model = get_model(num_classes)\n",
    " \n",
    "  # Specify the optimizer (Adadelta in this example), using the learning rate input parameter of the function so that Horovod can adjust the learning rate during training\n",
    "  optimizer = keras.optimizers.Adadelta(lr=learning_rate)\n",
    " \n",
    "  model.compile(optimizer=optimizer,\n",
    "                loss='categorical_crossentropy',\n",
    "                metrics=['accuracy'])\n",
    " \n",
    "  model.fit(x_train, y_train,\n",
    "            batch_size=batch_size,\n",
    "            epochs=epochs,\n",
    "            verbose=2,\n",
    "            validation_data=(x_test, y_test))\n",
    "  return model"
   ]
  },
  {
   "cell_type": "code",
   "execution_count": null,
   "metadata": {
    "ExecuteTime": {
     "end_time": "2021-10-25T18:09:47.564199Z",
     "start_time": "2021-10-25T18:08:19.063633Z"
    }
   },
   "outputs": [],
   "source": [
    "model = train(learning_rate=0.1)"
   ]
  },
  {
   "cell_type": "markdown",
   "metadata": {},
   "source": [
    "# Train on distributed cluster"
   ]
  },
  {
   "cell_type": "code",
   "execution_count": null,
   "metadata": {
    "ExecuteTime": {
     "end_time": "2021-10-25T18:10:05.283378Z",
     "start_time": "2021-10-25T18:10:05.264744Z"
    }
   },
   "outputs": [],
   "source": [
    "def train_hvd(checkpoint_path, learning_rate=1.0):\n",
    "  \n",
    "    # Import tensorflow modules to each worker\n",
    "    from tensorflow.keras import backend as K\n",
    "    from tensorflow.keras.models import Sequential\n",
    "    import tensorflow as tf\n",
    "    from tensorflow import keras\n",
    "    import horovod.tensorflow.keras as hvd\n",
    "\n",
    "    # Initialize Horovod\n",
    "    hvd.init()\n",
    "\n",
    "    # Pin GPU to be used to process local rank (one GPU per process)\n",
    "    # These steps are skipped on a CPU cluster\n",
    "    gpus = tf.config.experimental.list_physical_devices('GPU')\n",
    "    for gpu in gpus:\n",
    "        tf.config.experimental.set_memory_growth(gpu, True)\n",
    "    if gpus:\n",
    "        tf.config.experimental.set_visible_devices(gpus[hvd.local_rank()], 'GPU')\n",
    "\n",
    "    # Call the get_dataset function you created, this time with the Horovod rank and size\n",
    "    (x_train, y_train), (x_test, y_test) = get_dataset(num_classes, hvd.rank(), hvd.size())\n",
    "    model = get_model(num_classes)\n",
    "\n",
    "    # Adjust learning rate based on number of GPUs\n",
    "    optimizer = keras.optimizers.Adadelta(lr=learning_rate * hvd.size())\n",
    "\n",
    "    # Use the Horovod Distributed Optimizer\n",
    "    optimizer = hvd.DistributedOptimizer(optimizer)\n",
    "\n",
    "    model.compile(optimizer=optimizer,\n",
    "                loss='categorical_crossentropy',\n",
    "                metrics=['accuracy'])\n",
    "\n",
    "    # Create a callback to broadcast the initial variable states from rank 0 to all other processes.\n",
    "    # This is required to ensure consistent initialization of all workers when training is started with random weights or restored from a checkpoint.\n",
    "    callbacks = [\n",
    "      hvd.callbacks.BroadcastGlobalVariablesCallback(0),\n",
    "    ]\n",
    "\n",
    "    # Save checkpoints only on worker 0 to prevent conflicts between workers\n",
    "    if hvd.rank() == 0:\n",
    "      callbacks.append(keras.callbacks.ModelCheckpoint(checkpoint_path, save_weights_only = True))\n",
    "\n",
    "    model.fit(x_train, y_train,\n",
    "            batch_size=batch_size,\n",
    "            callbacks=callbacks,\n",
    "            epochs=epochs,\n",
    "            verbose=2,\n",
    "            validation_data=(x_test, y_test))\n"
   ]
  },
  {
   "cell_type": "code",
   "execution_count": null,
   "metadata": {
    "ExecuteTime": {
     "end_time": "2021-10-25T18:10:07.615535Z",
     "start_time": "2021-10-25T18:10:07.013197Z"
    }
   },
   "outputs": [],
   "source": [
    "from sparkdl import HorovodRunner\n",
    " \n",
    "checkpoint_path = \"/models/\" + '/checkpoint-{epoch}.ckpt'\n",
    "learning_rate = 0.1\n",
    "hr = HorovodRunner(np=2)\n",
    "hr.run(train_hvd, checkpoint_path=checkpoint_path, learning_rate=learning_rate)"
   ]
  },
  {
   "cell_type": "markdown",
   "metadata": {},
   "source": [
    "# Load model"
   ]
  },
  {
   "cell_type": "code",
   "execution_count": null,
   "metadata": {
    "ExecuteTime": {
     "end_time": "2021-10-25T18:02:40.963340Z",
     "start_time": "2021-10-25T18:02:37.177179Z"
    }
   },
   "outputs": [],
   "source": [
    "import tensorflow as tf\n",
    " \n",
    "hvd_model = get_model(num_classes)\n",
    "hvd_model.compile(optimizer=tf.keras.optimizers.Adadelta(lr=learning_rate),\n",
    "                loss='categorical_crossentropy',\n",
    "                metrics=['accuracy'])\n",
    "hvd_model.load_weights(tf.train.latest_checkpoint(os.path.dirname(checkpoint_path)))\n",
    "Out[53]: <tensorflow.python.training.tracking.util.CheckpointLoadStatus at 0x7efe141276d0>\n"
   ]
  },
  {
   "cell_type": "code",
   "execution_count": null,
   "metadata": {},
   "outputs": [],
   "source": []
  }
 ],
 "metadata": {
  "kernelspec": {
   "display_name": "Python 3",
   "language": "python",
   "name": "python3"
  },
  "language_info": {
   "codemirror_mode": {
    "name": "ipython",
    "version": 3
   },
   "file_extension": ".py",
   "mimetype": "text/x-python",
   "name": "python",
   "nbconvert_exporter": "python",
   "pygments_lexer": "ipython3",
   "version": "3.8.6"
  },
  "toc": {
   "base_numbering": 1,
   "nav_menu": {},
   "number_sections": true,
   "sideBar": true,
   "skip_h1_title": false,
   "title_cell": "Table of Contents",
   "title_sidebar": "Contents",
   "toc_cell": false,
   "toc_position": {},
   "toc_section_display": true,
   "toc_window_display": false
  }
 },
 "nbformat": 4,
 "nbformat_minor": 4
}
